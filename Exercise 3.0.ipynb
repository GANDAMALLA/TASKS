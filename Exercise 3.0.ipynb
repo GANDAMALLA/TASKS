{
 "cells": [
  {
   "cell_type": "code",
   "execution_count": 5,
   "id": "061f9465",
   "metadata": {},
   "outputs": [
    {
     "data": {
      "text/plain": [
       "'python'"
      ]
     },
     "execution_count": 5,
     "metadata": {},
     "output_type": "execute_result"
    }
   ],
   "source": [
    "#Write a python program to convert a string to lower case\n",
    "x=\"PYTHON\"\n",
    "x.lower()\n"
   ]
  },
  {
   "cell_type": "code",
   "execution_count": 123,
   "id": "b97bd309",
   "metadata": {},
   "outputs": [
    {
     "name": "stdout",
     "output_type": "stream",
     "text": [
      "pYtHoN"
     ]
    }
   ],
   "source": [
    "#Write a python program to convert only odd indexed characters to lower case\n",
    "x=\"PYTHON\"\n",
    "for z in range(len(x)) :\n",
    " t=x.index(x[z])\n",
    " if t % 2 == 0 :\n",
    "  print(x[t].lower(),end=\"\")\n",
    " else :\n",
    "  print(x[t].upper(),end=\"\")"
   ]
  },
  {
   "cell_type": "code",
   "execution_count": 124,
   "id": "e4c01918",
   "metadata": {},
   "outputs": [
    {
     "name": "stdout",
     "output_type": "stream",
     "text": [
      "PyThOn"
     ]
    }
   ],
   "source": [
    "#Write a python program to convert only even indexed characters to lower case\n",
    "x=\"PYTHON\"\n",
    "for z in range(len(x)) :\n",
    " t=x.index(x[z])\n",
    " if t % 2 == 0 :\n",
    "  print(x[t].upper(),end=\"\")\n",
    " else :\n",
    "  print(x[t].lower(),end=\"\")"
   ]
  },
  {
   "cell_type": "code",
   "execution_count": 125,
   "id": "b92ed0f4",
   "metadata": {},
   "outputs": [
    {
     "name": "stdout",
     "output_type": "stream",
     "text": [
      "pYtHoN"
     ]
    }
   ],
   "source": [
    "#Write a python program to convert only odd indexed characters to upper case\n",
    "x=\"python\"\n",
    "for z in range(len(x)) :\n",
    " t=x.index(x[z])\n",
    " if t % 2 == 0 :\n",
    "  print(x[t].lower(),end=\"\")\n",
    " else :\n",
    "  print(x[t].upper(),end=\"\")"
   ]
  },
  {
   "cell_type": "code",
   "execution_count": 126,
   "id": "17dbee58",
   "metadata": {},
   "outputs": [
    {
     "name": "stdout",
     "output_type": "stream",
     "text": [
      "PyThOn"
     ]
    }
   ],
   "source": [
    "#Write a python program to convert only even indexed characters to upper case\n",
    "x=\"python\"\n",
    "for z in range(len(x)) :\n",
    " t=x.index(x[z])\n",
    " if t % 2 == 0 :\n",
    "  print(x[t].upper(),end=\"\")\n",
    " else :\n",
    "  print(x[t].lower(),end=\"\")"
   ]
  },
  {
   "cell_type": "code",
   "execution_count": 127,
   "id": "6fb5f994",
   "metadata": {},
   "outputs": [
    {
     "name": "stdout",
     "output_type": "stream",
     "text": [
      "My name is Likitha My age is 23 My phone-no is 7171717171 my fathers name is HANUMAIAH and my mothers name is LUCY\n"
     ]
    }
   ],
   "source": [
    "\"\"\"Write a python program where you have different variable which contains your name,sex,age, phone no ,fathers name and\n",
    "mothers name. And by using this variable create a variable named bio-data where you will use all this variable\n",
    "Ex:-print(bio-data)\"\"\"\n",
    "name=\"Likitha\"\n",
    "sex=\"FEMALE\"\n",
    "age=23\n",
    "phone=7171717171\n",
    "father=\"HANUMAIAH\"\n",
    "mother=\"LUCY\"\n",
    "info=\"My name is {} My age is {} My phone-no is {} my fathers name is {} and my mothers name is {}\"\n",
    "bio_data=info.format(name,age,phone,father,mother)\n",
    "print(bio_data)"
   ]
  },
  {
   "cell_type": "code",
   "execution_count": 128,
   "id": "ab0f93fa",
   "metadata": {},
   "outputs": [
    {
     "data": {
      "text/plain": [
       "4"
      ]
     },
     "execution_count": 128,
     "metadata": {},
     "output_type": "execute_result"
    }
   ],
   "source": [
    "#Write a python program to count how many times “@” occurred\n",
    "var=\"m@l@y@l@m\"\n",
    "var.count(\"@\")"
   ]
  },
  {
   "cell_type": "code",
   "execution_count": 131,
   "id": "cac4651c",
   "metadata": {},
   "outputs": [
    {
     "data": {
      "text/plain": [
       "0"
      ]
     },
     "execution_count": 131,
     "metadata": {},
     "output_type": "execute_result"
    }
   ],
   "source": [
    "#Write a python program to get only names from the string\n",
    "str=\"name1.@gmail.com,name2.@gmail.com,name3.@gmail.com\"\n",
    "str.find(\"name\")"
   ]
  },
  {
   "cell_type": "code",
   "execution_count": 142,
   "id": "0bc1a140",
   "metadata": {},
   "outputs": [
    {
     "name": "stdout",
     "output_type": "stream",
     "text": [
      "sli\n"
     ]
    }
   ],
   "source": [
    "#Given a string of odd length greater that 9, return a new string made of the middle three characters of a given String\n",
    "str=\"nameislikit\"\n",
    "x=len(str)\n",
    "y=x//2\n",
    "y+=1\n",
    "print(str[y-1],str[y],str[y+1],sep=\"\")"
   ]
  },
  {
   "cell_type": "code",
   "execution_count": 149,
   "id": "12457f0a",
   "metadata": {},
   "outputs": [
    {
     "name": "stdout",
     "output_type": "stream",
     "text": [
      "msayn\n"
     ]
    }
   ],
   "source": [
    "#Write a python program to insert a 2 string in the middle of 1 string\n",
    "str1=\"myn\"\n",
    "str2=\"sa\"\n",
    "x=len(str1)\n",
    "x=x//2\n",
    "x-=1\n",
    "print(str1[0],str2,str1[1],str1[2],sep=\"\")"
   ]
  },
  {
   "cell_type": "code",
   "execution_count": 206,
   "id": "a335d4a3",
   "metadata": {},
   "outputs": [
    {
     "name": "stdout",
     "output_type": "stream",
     "text": [
      "bcdfghjklmnpqrstvwxyz\n"
     ]
    }
   ],
   "source": [
    "#Write a program to remove vowels from the entire alphabets\n",
    "str=\"abcdefghijklmnopqrstuvwxyz\"\n",
    "table=str.maketrans(\"aeiou\",\"     \")\n",
    "str=str.translate(table)\n",
    "str1=str.replace(\" \",\"\")\n",
    "print(str1)"
   ]
  },
  {
   "cell_type": "code",
   "execution_count": null,
   "id": "5ca44a76",
   "metadata": {},
   "outputs": [],
   "source": []
  },
  {
   "cell_type": "code",
   "execution_count": null,
   "id": "7eb02b2a",
   "metadata": {},
   "outputs": [],
   "source": []
  }
 ],
 "metadata": {
  "kernelspec": {
   "display_name": "Python 3",
   "language": "python",
   "name": "python3"
  },
  "language_info": {
   "codemirror_mode": {
    "name": "ipython",
    "version": 3
   },
   "file_extension": ".py",
   "mimetype": "text/x-python",
   "name": "python",
   "nbconvert_exporter": "python",
   "pygments_lexer": "ipython3",
   "version": "3.8.8"
  }
 },
 "nbformat": 4,
 "nbformat_minor": 5
}
