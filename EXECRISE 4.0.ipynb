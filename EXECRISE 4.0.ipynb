{
 "cells": [
  {
   "cell_type": "code",
   "execution_count": 336,
   "id": "8ada9da4",
   "metadata": {},
   "outputs": [
    {
     "name": "stdout",
     "output_type": "stream",
     "text": [
      "*****\n",
      "*****\n",
      "*****\n",
      "*****\n",
      "*****\n",
      "*****\n",
      "*****\n"
     ]
    }
   ],
   "source": [
    "row=0\n",
    "col=0\n",
    "while row<7:\n",
    "    col=0\n",
    "    while col<5:\n",
    "        print(\"*\",end=\"\")\n",
    "        col=col+1\n",
    "    print(sep=\"\")\n",
    "    row=row+1\n",
    "    "
   ]
  },
  {
   "cell_type": "code",
   "execution_count": 271,
   "id": "bba8a0d6",
   "metadata": {
    "scrolled": false
   },
   "outputs": [
    {
     "name": "stdout",
     "output_type": "stream",
     "text": [
      " *** \n",
      "*   *\n",
      "*   *\n",
      "*****\n",
      "*   *\n",
      "*   *\n",
      "*   *\n"
     ]
    }
   ],
   "source": [
    "row=0\n",
    "col=0\n",
    "while row<7:\n",
    "    col=0\n",
    "    while col<5:\n",
    "        if (row==0 and (col>0 and col<4)) or (row==3 and col<5) or (col==0 and row>0 and row<7) or (row>0 and col>3):\n",
    "            print(\"*\",end=\"\")\n",
    "        else:\n",
    "            print(\" \",end=\"\")\n",
    "        col=col+1\n",
    "    print(sep=\"\")\n",
    "    row=row+1"
   ]
  },
  {
   "cell_type": "code",
   "execution_count": 103,
   "id": "aeb0dd1b",
   "metadata": {},
   "outputs": [
    {
     "name": "stdout",
     "output_type": "stream",
     "text": [
      "**** \n",
      "*   *\n",
      "*   *\n",
      "**** \n",
      "*   *\n",
      "*   *\n",
      "**** \n"
     ]
    }
   ],
   "source": [
    "row=0\n",
    "col=0\n",
    "while row<7:\n",
    "    col=0\n",
    "    while col<5:\n",
    "        if ((row==0 or row==6 or row==3) and col<4) or (col==0 and row>0 and row<7) or (col==4 and (row==1 or row==2 or row==4 or row==5)):\n",
    "            print(\"*\",end=\"\")\n",
    "        else:\n",
    "            print(\" \",end=\"\")\n",
    "        col=col+1\n",
    "    print(sep=\"\")\n",
    "    row=row+1"
   ]
  },
  {
   "cell_type": "code",
   "execution_count": 132,
   "id": "f646e705",
   "metadata": {},
   "outputs": [
    {
     "name": "stdout",
     "output_type": "stream",
     "text": [
      " ****\n",
      "*    \n",
      "*    \n",
      "*    \n",
      "*    \n",
      "*    \n",
      " ****\n"
     ]
    }
   ],
   "source": [
    "row=0\n",
    "col=0\n",
    "while row<7:\n",
    "    col=0\n",
    "    while col<5:\n",
    "        if (row==0 and col==1) or (row==0 and col>1) or (col==0 and row>0 and row<6) or (row==6 and col>0):\n",
    "            print(\"*\",end=\"\")\n",
    "        else:\n",
    "            print(\" \",end=\"\")\n",
    "        col=col+1\n",
    "    print(sep=\"\")\n",
    "    row=row+1"
   ]
  },
  {
   "cell_type": "code",
   "execution_count": 141,
   "id": "ae5a8cb8",
   "metadata": {},
   "outputs": [
    {
     "name": "stdout",
     "output_type": "stream",
     "text": [
      "**** \n",
      "*   *\n",
      "*   *\n",
      "*   *\n",
      "*   *\n",
      "*   *\n",
      "**** \n"
     ]
    }
   ],
   "source": [
    "row=0\n",
    "col=0\n",
    "while row<7:\n",
    "    col=0\n",
    "    while col<5:\n",
    "        if ((row==0 or row==6) and col<4)or (col==0 and row>0 and row<7) or (col==4 and row>0 and row<6):\n",
    "            print(\"*\",end=\"\")\n",
    "        else:\n",
    "            print(\" \",end=\"\")\n",
    "        col=col+1\n",
    "    print(sep=\"\")\n",
    "    row=row+1"
   ]
  },
  {
   "cell_type": "code",
   "execution_count": 146,
   "id": "bd423dd2",
   "metadata": {},
   "outputs": [
    {
     "name": "stdout",
     "output_type": "stream",
     "text": [
      "*****\n",
      "*    \n",
      "*    \n",
      "**** \n",
      "*    \n",
      "*    \n",
      "*****\n"
     ]
    }
   ],
   "source": [
    "row=0\n",
    "col=0\n",
    "while row<7:\n",
    "    col=0\n",
    "    while col<5:\n",
    "        if ((row==0 or row==6) and col<5) or (row==3 and col<4) or (col==0 and row>0 and row<7):\n",
    "            print(\"*\",end=\"\")\n",
    "        else:\n",
    "            print(\" \",end=\"\")\n",
    "        col=col+1\n",
    "    print(sep=\"\")\n",
    "    row=row+1"
   ]
  },
  {
   "cell_type": "code",
   "execution_count": 154,
   "id": "09cc76cc",
   "metadata": {},
   "outputs": [
    {
     "name": "stdout",
     "output_type": "stream",
     "text": [
      "*****\n",
      "*    \n",
      "**** \n",
      "*    \n",
      "*    \n",
      "*    \n",
      "*    \n"
     ]
    }
   ],
   "source": [
    "row=0\n",
    "col=0\n",
    "while row<7:\n",
    "    col=0\n",
    "    while col<5:\n",
    "        if (row==0 and col<5) or (row==2 and col<4) or (col==0 and row>0 and row<7):\n",
    "            print(\"*\",end=\"\")\n",
    "        else:\n",
    "            print(\" \",end=\"\")\n",
    "        col=col+1\n",
    "    print(sep=\"\")\n",
    "    row=row+1"
   ]
  },
  {
   "cell_type": "code",
   "execution_count": 164,
   "id": "11a911d0",
   "metadata": {},
   "outputs": [
    {
     "name": "stdout",
     "output_type": "stream",
     "text": [
      "*****\n",
      "*    \n",
      "*    \n",
      "* ***\n",
      "*   *\n",
      "*   *\n",
      "*****\n"
     ]
    }
   ],
   "source": [
    "row=0\n",
    "col=0\n",
    "while row<7:\n",
    "    col=0\n",
    "    while col<5:\n",
    "        if ((row==0 or row==6 or (row==3 and (col==3 or col==2))) and col<5) or (col==0 and row>0 and row<7) or (col==4 and (row==3 or row==4 or row==5)):\n",
    "            print(\"*\",end=\"\")\n",
    "        else:\n",
    "            print(\" \",end=\"\")\n",
    "        col=col+1\n",
    "    print(sep=\"\")\n",
    "    row=row+1"
   ]
  },
  {
   "cell_type": "code",
   "execution_count": 171,
   "id": "001b9d24",
   "metadata": {},
   "outputs": [
    {
     "name": "stdout",
     "output_type": "stream",
     "text": [
      "*   *\n",
      "*   *\n",
      "*   *\n",
      "*****\n",
      "*   *\n",
      "*   *\n",
      "*   *\n"
     ]
    }
   ],
   "source": [
    "row=0\n",
    "col=0\n",
    "while row<7:\n",
    "    col=0\n",
    "    while col<5:\n",
    "        if (row==3 and col<5) or (col==0 and row>-1 and row<7) or (row>-1 and col>3):\n",
    "            print(\"*\",end=\"\")\n",
    "        else:\n",
    "            print(\" \",end=\"\")\n",
    "        col=col+1\n",
    "    print(sep=\"\")\n",
    "    row=row+1"
   ]
  },
  {
   "cell_type": "code",
   "execution_count": 176,
   "id": "2066b240",
   "metadata": {},
   "outputs": [
    {
     "name": "stdout",
     "output_type": "stream",
     "text": [
      "*****\n",
      "  *  \n",
      "  *  \n",
      "  *  \n",
      "  *  \n",
      "  *  \n",
      "*****\n"
     ]
    }
   ],
   "source": [
    "row=0\n",
    "col=0\n",
    "while row<7:\n",
    "    col=0\n",
    "    while col<5:\n",
    "        if ((row==0 or row==6) and col<5) or (col==2 and row>0 and row<7):\n",
    "            print(\"*\",end=\"\")\n",
    "        else:\n",
    "            print(\" \",end=\"\")\n",
    "        col=col+1\n",
    "    print(sep=\"\")\n",
    "    row=row+1"
   ]
  },
  {
   "cell_type": "code",
   "execution_count": 187,
   "id": "f014192c",
   "metadata": {},
   "outputs": [
    {
     "name": "stdout",
     "output_type": "stream",
     "text": [
      "*****\n",
      "  *  \n",
      "  *  \n",
      "  *  \n",
      "  *  \n",
      "  *  \n",
      "**   \n"
     ]
    }
   ],
   "source": [
    "row=0\n",
    "col=0\n",
    "while row<7:\n",
    "    col=0\n",
    "    while col<5:\n",
    "        if (row==0 and col<5) or (col==2 and row>0 and row<6) or (row==6 and col<2):\n",
    "            print(\"*\",end=\"\")\n",
    "        else:\n",
    "            print(\" \",end=\"\")\n",
    "        col=col+1\n",
    "    print(sep=\"\")\n",
    "    row=row+1"
   ]
  },
  {
   "cell_type": "code",
   "execution_count": 200,
   "id": "bfa36700",
   "metadata": {},
   "outputs": [
    {
     "name": "stdout",
     "output_type": "stream",
     "text": [
      "*   *\n",
      "*  * \n",
      "* *  \n",
      "**   \n",
      "* *  \n",
      "*  * \n",
      "*   *\n"
     ]
    }
   ],
   "source": [
    "row=0\n",
    "col=0\n",
    "while row<7:\n",
    "    col=0\n",
    "    while col<5:\n",
    "        if (col==0 and row>-1) or (row==3 and col==1) or (row==2 and col==2) or (row==1 and col==3) or (row==0 and col==4) or (row==4 and col==2) or (row==5 and col==3) or (row==6 and col==4) :\n",
    "            print(\"*\",end=\"\")\n",
    "        else:\n",
    "            print(\" \",end=\"\")\n",
    "        col=col+1\n",
    "    print(sep=\"\")\n",
    "    row=row+1"
   ]
  },
  {
   "cell_type": "code",
   "execution_count": 194,
   "id": "26fbc83c",
   "metadata": {},
   "outputs": [
    {
     "name": "stdout",
     "output_type": "stream",
     "text": [
      "*    \n",
      "*    \n",
      "*    \n",
      "*    \n",
      "*    \n",
      "*    \n",
      "*****\n"
     ]
    }
   ],
   "source": [
    "row=0\n",
    "col=0\n",
    "while row<7:\n",
    "    col=0\n",
    "    while col<5:\n",
    "        if (row==6 and col<5) or (col==0 and row>-1):\n",
    "            print(\"*\",end=\"\")\n",
    "        else:\n",
    "            print(\" \",end=\"\")\n",
    "        col=col+1\n",
    "    print(sep=\"\")\n",
    "    row=row+1"
   ]
  },
  {
   "cell_type": "code",
   "execution_count": 8,
   "id": "6b9d6323",
   "metadata": {},
   "outputs": [
    {
     "name": "stdout",
     "output_type": "stream",
     "text": [
      "**   **\n",
      "* * * *\n",
      "*  *  *\n",
      "*     *\n",
      "*     *\n",
      "*     *\n",
      "*     *\n"
     ]
    }
   ],
   "source": [
    "row=0\n",
    "col=0\n",
    "while row<7:\n",
    "    col=0\n",
    "    while col<7:\n",
    "        if ((col==0 or col==6) and row<7) or (row==0 and (col==1 or col==5)) or (row==1 and (col==2 or col==4)) or (row==2 and col==3):\n",
    "            print(\"*\",end=\"\")\n",
    "        else:\n",
    "            print(\" \",end=\"\")\n",
    "        col=col+1\n",
    "    print(sep=\"\")\n",
    "    row=row+1"
   ]
  },
  {
   "cell_type": "code",
   "execution_count": 21,
   "id": "c47d02c2",
   "metadata": {},
   "outputs": [
    {
     "name": "stdout",
     "output_type": "stream",
     "text": [
      "**    *   \n",
      "* *   *   \n",
      "*  *  *   \n",
      "*   * *   \n",
      "*    **   \n"
     ]
    }
   ],
   "source": [
    "row=0\n",
    "col=0\n",
    "while row<5:\n",
    "    col=0\n",
    "    while col<10:\n",
    "        if ((col==0 or col==6) and row<5) or (row==0 and col==1) or (row==1 and col==2) or (row==2 and col==3) or (row==3 and col==4) or (row==4 and col==5):\n",
    "            print(\"*\",end=\"\")\n",
    "        else:\n",
    "            print(\" \",end=\"\")\n",
    "        col=col+1\n",
    "    print(sep=\"\")\n",
    "    row=row+1"
   ]
  },
  {
   "cell_type": "code",
   "execution_count": 235,
   "id": "299b1655",
   "metadata": {},
   "outputs": [
    {
     "name": "stdout",
     "output_type": "stream",
     "text": [
      " *** \n",
      "*   *\n",
      "*   *\n",
      "*   *\n",
      "*   *\n",
      "*   *\n",
      " *** \n"
     ]
    }
   ],
   "source": [
    "row=0\n",
    "col=0\n",
    "while row<7:\n",
    "    col=0\n",
    "    while col<5:\n",
    "        if (row==0 and col==1) or (row==0 and col>1 and col<4) or (row==6 and col==1) or (row==6 and col>1 and col<4) or (col==0 and row>0 and row<6) or (col==4 and row>0 and row<6):\n",
    "            print(\"*\",end=\"\")\n",
    "        else:\n",
    "            print(\" \",end=\"\")\n",
    "        col=col+1\n",
    "    print(sep=\"\")\n",
    "    row=row+1"
   ]
  },
  {
   "cell_type": "code",
   "execution_count": 238,
   "id": "f330c1ba",
   "metadata": {},
   "outputs": [
    {
     "name": "stdout",
     "output_type": "stream",
     "text": [
      "**** \n",
      "*   *\n",
      "*   *\n",
      "**** \n",
      "*    \n",
      "*    \n",
      "*    \n"
     ]
    }
   ],
   "source": [
    "row=0\n",
    "col=0\n",
    "while row<7:\n",
    "    col=0\n",
    "    while col<5:\n",
    "        if ((row==0 or row==3) and col<4) or (col==0 and row>0 and row<7) or (col==4 and (row==1 or row==2)):\n",
    "            print(\"*\",end=\"\")\n",
    "        else:\n",
    "            print(\" \",end=\"\")\n",
    "        col=col+1\n",
    "    print(sep=\"\")\n",
    "    row=row+1"
   ]
  },
  {
   "cell_type": "code",
   "execution_count": 250,
   "id": "e32aba8b",
   "metadata": {},
   "outputs": [
    {
     "name": "stdout",
     "output_type": "stream",
     "text": [
      " *** \n",
      "*   *\n",
      "*   *\n",
      "*   *\n",
      "* * *\n",
      " *** \n",
      "    *\n"
     ]
    }
   ],
   "source": [
    "row=0\n",
    "col=0\n",
    "while row<7:\n",
    "    col=0\n",
    "    while col<5:\n",
    "        if (row==0 and col==1) or (row==0 and col>1 and col<4) or (row==5 and col==1) or (row==5 and col>1 and col<4) or (col==0 and row>0 and row<5) or (col==4 and row>0 and row<5) or (col==2 and row==4) or (col==4 and row==6):\n",
    "            print(\"*\",end=\"\")\n",
    "        else:\n",
    "            print(\" \",end=\"\")\n",
    "        col=col+1\n",
    "    print(sep=\"\")\n",
    "    row=row+1"
   ]
  },
  {
   "cell_type": "code",
   "execution_count": 254,
   "id": "2b5a2a5c",
   "metadata": {},
   "outputs": [
    {
     "name": "stdout",
     "output_type": "stream",
     "text": [
      "**** \n",
      "*   *\n",
      "*   *\n",
      "**** \n",
      "*   *\n",
      "*   *\n",
      "*   *\n"
     ]
    }
   ],
   "source": [
    "row=0\n",
    "col=0\n",
    "while row<7:\n",
    "    col=0\n",
    "    while col<5:\n",
    "        if (row==0 and col<4) or (row==3 and col<4) or (col==0 and row>0 and row<7) or (col==4 and (row==1 or row==2 or row==4 or row==5 or row==6)):\n",
    "            print(\"*\",end=\"\")\n",
    "        else:\n",
    "            print(\" \",end=\"\")\n",
    "        col=col+1\n",
    "    print(sep=\"\")\n",
    "    row=row+1"
   ]
  },
  {
   "cell_type": "code",
   "execution_count": 281,
   "id": "845de0d5",
   "metadata": {},
   "outputs": [
    {
     "name": "stdout",
     "output_type": "stream",
     "text": [
      " ****\n",
      "*    \n",
      "*    \n",
      " *** \n",
      "    *\n",
      "    *\n",
      "**** \n"
     ]
    }
   ],
   "source": [
    "row=0\n",
    "col=0\n",
    "while row<7:\n",
    "    col=0\n",
    "    while col<5:\n",
    "        if (row==0 and (col>0 and col<5)) or (row==3 and (col>0 and col<4)) or (row==6 and (col>-1 and col<4)) or (col==0 and (row==1 or row==2)) or (col==4 and (row==4 or row==5)):\n",
    "            print(\"*\",end=\"\")\n",
    "        else:\n",
    "            print(\" \",end=\"\")\n",
    "        col=col+1\n",
    "    print(sep=\"\")\n",
    "    row=row+1"
   ]
  },
  {
   "cell_type": "code",
   "execution_count": 285,
   "id": "66719b07",
   "metadata": {},
   "outputs": [
    {
     "name": "stdout",
     "output_type": "stream",
     "text": [
      "*****\n",
      "  *  \n",
      "  *  \n",
      "  *  \n",
      "  *  \n",
      "  *  \n",
      "  *  \n"
     ]
    }
   ],
   "source": [
    "row=0\n",
    "col=0\n",
    "while row<7:\n",
    "    col=0\n",
    "    while col<5:\n",
    "        if (row==0 and col<5) or (col==2 and row>0 and row<7):\n",
    "            print(\"*\",end=\"\")\n",
    "        else:\n",
    "            print(\" \",end=\"\")\n",
    "        col=col+1\n",
    "    print(sep=\"\")\n",
    "    row=row+1"
   ]
  },
  {
   "cell_type": "code",
   "execution_count": 288,
   "id": "eeb85f5f",
   "metadata": {},
   "outputs": [
    {
     "name": "stdout",
     "output_type": "stream",
     "text": [
      "*   *\n",
      "*   *\n",
      "*   *\n",
      "*   *\n",
      "*   *\n",
      "*   *\n",
      " *** \n"
     ]
    }
   ],
   "source": [
    "row=0\n",
    "col=0\n",
    "while row<7:\n",
    "    col=0\n",
    "    while col<5:\n",
    "        if (row==6 and col==1) or (row==6 and col>1 and col<4) or (col==0 and row>-1 and row<6) or (col==4 and row>-1 and row<6):\n",
    "            print(\"*\",end=\"\")\n",
    "        else:\n",
    "            print(\" \",end=\"\")\n",
    "        col=col+1\n",
    "    print(sep=\"\")\n",
    "    row=row+1"
   ]
  },
  {
   "cell_type": "code",
   "execution_count": 328,
   "id": "2e294bcb",
   "metadata": {},
   "outputs": [
    {
     "name": "stdout",
     "output_type": "stream",
     "text": [
      "*   *\n",
      " * * \n",
      "  *  \n"
     ]
    }
   ],
   "source": [
    "row=0\n",
    "col=0\n",
    "while row<3:\n",
    "    col=0\n",
    "    while col<5:\n",
    "        if (row==0 and (col==0 or col==4)) or (row==1 and (col==1 or col==3)) or (row==2 and col==2):\n",
    "            print(\"*\",end=\"\")\n",
    "        else:\n",
    "            print(\" \",end=\"\")\n",
    "        col=col+1\n",
    "    print(sep=\"\")\n",
    "    row=row+1"
   ]
  },
  {
   "cell_type": "code",
   "execution_count": null,
   "id": "a02beae7",
   "metadata": {},
   "outputs": [],
   "source": [
    "W"
   ]
  },
  {
   "cell_type": "code",
   "execution_count": 2,
   "id": "bb67f69a",
   "metadata": {},
   "outputs": [
    {
     "name": "stdout",
     "output_type": "stream",
     "text": [
      "*   *\n",
      " * * \n",
      "  *  \n",
      " * * \n",
      "*   *\n"
     ]
    }
   ],
   "source": [
    "row=0\n",
    "col=0\n",
    "while row<5:\n",
    "    col=0\n",
    "    while col<5:\n",
    "        if (row==0 and (col==0 or col==4)) or (row==1 and (col==1 or col==3)) or (row==2 and col==2) or (row==3 and (col==1 or col==3)) or (row==4 and (col==0 or col==4)):\n",
    "            print(\"*\",end=\"\")\n",
    "        else:\n",
    "            print(\" \",end=\"\")\n",
    "        col=col+1\n",
    "    print(sep=\"\")\n",
    "    row=row+1"
   ]
  },
  {
   "cell_type": "code",
   "execution_count": 305,
   "id": "96e24ae6",
   "metadata": {},
   "outputs": [
    {
     "name": "stdout",
     "output_type": "stream",
     "text": [
      "*   *\n",
      " * * \n",
      "  *  \n",
      " *   \n",
      "*    \n",
      "     \n",
      "     \n"
     ]
    }
   ],
   "source": [
    "row=0\n",
    "col=0\n",
    "while row<7:\n",
    "    col=0\n",
    "    while col<5:\n",
    "        if (row==0 and (col==0 or col==4)) or (row==1 and (col==1 or col==3)) or (row==2 and col==2) or (row==3 and col==1) or (row==4 and col==0):\n",
    "            print(\"*\",end=\"\")\n",
    "        else:\n",
    "            print(\" \",end=\"\")\n",
    "        col=col+1\n",
    "    print(sep=\"\")\n",
    "    row=row+1"
   ]
  },
  {
   "cell_type": "code",
   "execution_count": 326,
   "id": "a7e30a3d",
   "metadata": {},
   "outputs": [
    {
     "name": "stdout",
     "output_type": "stream",
     "text": [
      "*****\n",
      "   * \n",
      "  *  \n",
      " *   \n",
      "*****\n"
     ]
    }
   ],
   "source": [
    "row=0\n",
    "col=0\n",
    "while row<5:\n",
    "    col=0\n",
    "    while col<5:\n",
    "        if ((row==0 or row==4) and col<5) or (row==0 and col==4) or (row==1 and col==3) or (row==2 and col==2) or (row==3 and col==1) or (row==4 and col==0):\n",
    "            print(\"*\",end=\"\")\n",
    "        else:\n",
    "            print(\" \",end=\"\")\n",
    "        col=col+1\n",
    "    print(sep=\"\")\n",
    "    row=row+1"
   ]
  }
 ],
 "metadata": {
  "kernelspec": {
   "display_name": "Python 3",
   "language": "python",
   "name": "python3"
  },
  "language_info": {
   "codemirror_mode": {
    "name": "ipython",
    "version": 3
   },
   "file_extension": ".py",
   "mimetype": "text/x-python",
   "name": "python",
   "nbconvert_exporter": "python",
   "pygments_lexer": "ipython3",
   "version": "3.8.8"
  }
 },
 "nbformat": 4,
 "nbformat_minor": 5
}
