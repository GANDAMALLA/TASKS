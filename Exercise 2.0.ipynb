{
 "cells": [
  {
   "cell_type": "code",
   "execution_count": 20,
   "id": "4f0b01af",
   "metadata": {},
   "outputs": [
    {
     "name": "stdout",
     "output_type": "stream",
     "text": [
      "ster\n",
      "scsc\n",
      "EMPTY STRING\n"
     ]
    }
   ],
   "source": [
    "\"\"\"Write a Python program to get a string made of the first 2 and the last 2 chars from a given a string.\n",
    "If the string length is less than 2, return instead of the empty string.\n",
    "If the string is equal to 2 then repeat the string twice\"\"\"\n",
    "str=\"stangecoder\"\n",
    "len(str)\n",
    "print(str[0]+str[1]+str[9]+str[10])\n",
    "str1=\"sc\"\n",
    "if len(str1) == 2 :\n",
    " print(str1+str1)\n",
    "str2=\"s\"\n",
    "if len(str2) == 1 :\n",
    " print(\"EMPTY STRING\")"
   ]
  },
  {
   "cell_type": "code",
   "execution_count": 41,
   "id": "24b033ef",
   "metadata": {},
   "outputs": [
    {
     "name": "stdout",
     "output_type": "stream",
     "text": [
      "@alayala@\n",
      "0\n",
      "malayala@\n"
     ]
    }
   ],
   "source": [
    "\"\"\"Write a Python program to get a string from a given string where all occurrences of its first char have been changed to '@', \n",
    "except the first char itself.\"\"\"\n",
    "str=\"malayalam\"\n",
    "str1=str.replace(\"m\",\"@\")\n",
    "print(str1)\n",
    "str2=str1.find(\"@\")\n",
    "print(str2)\n",
    "r=str1.replace(\"@\",\"m\",1)\n",
    "print(r)"
   ]
  },
  {
   "cell_type": "code",
   "execution_count": 42,
   "id": "b6977979",
   "metadata": {},
   "outputs": [
    {
     "name": "stdout",
     "output_type": "stream",
     "text": [
      "@bc@b@b\n",
      "0\n",
      "abc@b@b\n"
     ]
    }
   ],
   "source": [
    "\"\"\"Write a Python program to get a string from a given string where all occurrences of its first char have been changed to '@', \n",
    "except the first char itself.\"\"\"\n",
    "str=\"abcabab\"\n",
    "str1=str.replace(\"a\",\"@\")\n",
    "print(str1)\n",
    "str2=str1.find(\"@\")\n",
    "print(str2)\n",
    "r=str1.replace(\"@\",\"a\",1)\n",
    "print(r)"
   ]
  },
  {
   "cell_type": "code",
   "execution_count": 58,
   "id": "ea91a975",
   "metadata": {},
   "outputs": [
    {
     "name": "stdout",
     "output_type": "stream",
     "text": [
      "True\n",
      "singly\n"
     ]
    }
   ],
   "source": [
    "\"\"\"Write a Python program to add 'ing' at the end of a given string (string length shoulg equal to or more than 3).\n",
    "If the given string already ends with 'ing' then add 'ly' instead.\n",
    "If the string length of the given string is less than 3, leave it unchanged\"\"\"\n",
    "str=\"sing\"\n",
    "str1=str.endswith(\"ing\")\n",
    "print(str1)\n",
    "if len(str) > 3 :\n",
    " if str1 == True :\n",
    "  print(str+\"ly\")\n",
    "else: \n",
    " print(str)"
   ]
  },
  {
   "cell_type": "code",
   "execution_count": 70,
   "id": "b3104aa7",
   "metadata": {},
   "outputs": [
    {
     "name": "stdout",
     "output_type": "stream",
     "text": [
      "False\n",
      "playing\n"
     ]
    }
   ],
   "source": [
    "str=\"play\"\n",
    "str1=str.endswith(\"ing\")\n",
    "print(str1)\n",
    "if len(str) >= 3 :\n",
    " if str1 == True :\n",
    "  print(str+\"ly\")\n",
    " elif str1 == False :\n",
    "   print(str+\"ing\")\n",
    "else: \n",
    " print(str)"
   ]
  },
  {
   "cell_type": "code",
   "execution_count": 71,
   "id": "f3c3681e",
   "metadata": {},
   "outputs": [
    {
     "name": "stdout",
     "output_type": "stream",
     "text": [
      "False\n",
      "on\n"
     ]
    }
   ],
   "source": [
    "str=\"on\"\n",
    "str1=str.endswith(\"ing\")\n",
    "print(str1)\n",
    "if len(str) >= 3 :\n",
    " if str1 == True :\n",
    "  print(str+\"ly\")\n",
    " elif str1 == False :\n",
    "   print(str+\"ing\")\n",
    "else: \n",
    " print(str)"
   ]
  },
  {
   "cell_type": "code",
   "execution_count": 83,
   "id": "89bbbe45",
   "metadata": {},
   "outputs": [
    {
     "name": "stdout",
     "output_type": "stream",
     "text": [
      "{44: 46, 46: 44}\n",
      "32.054,23\n"
     ]
    }
   ],
   "source": [
    "#Write a Python program to swap comma and dot in a string.\n",
    "str=\"32,054.23\"\n",
    "str1=str.maketrans(\",.\",\".,\")\n",
    "print(str1)\n",
    "str2=str.translate(str1)\n",
    "print(str2)"
   ]
  },
  {
   "cell_type": "code",
   "execution_count": 86,
   "id": "c317513d",
   "metadata": {},
   "outputs": [
    {
     "name": "stdout",
     "output_type": "stream",
     "text": [
      "n\n"
     ]
    }
   ],
   "source": [
    "#Write a Python program to reverse a string\n",
    "str=\"python\"\n",
    "str1=str[-1:]\n",
    "print(str1)"
   ]
  },
  {
   "cell_type": "code",
   "execution_count": 94,
   "id": "498d53b1",
   "metadata": {},
   "outputs": [
    {
     "name": "stdout",
     "output_type": "stream",
     "text": [
      "aa b c\n"
     ]
    }
   ],
   "source": [
    "#Split a given string on hyphens into several substrings and display each substring\n",
    "str=\"a-b-c\"\n",
    "str1=str.split(\"-\")\n",
    "print(str1[0]+\" \"+str1[1]+\" \"+str1[2])"
   ]
  },
  {
   "cell_type": "code",
   "execution_count": null,
   "id": "9b019feb",
   "metadata": {},
   "outputs": [],
   "source": []
  }
 ],
 "metadata": {
  "kernelspec": {
   "display_name": "Python 3",
   "language": "python",
   "name": "python3"
  },
  "language_info": {
   "codemirror_mode": {
    "name": "ipython",
    "version": 3
   },
   "file_extension": ".py",
   "mimetype": "text/x-python",
   "name": "python",
   "nbconvert_exporter": "python",
   "pygments_lexer": "ipython3",
   "version": "3.8.8"
  }
 },
 "nbformat": 4,
 "nbformat_minor": 5
}
