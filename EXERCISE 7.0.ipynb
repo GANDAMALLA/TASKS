{
 "cells": [
  {
   "cell_type": "code",
   "execution_count": 39,
   "id": "39018e39",
   "metadata": {},
   "outputs": [
    {
     "name": "stdout",
     "output_type": "stream",
     "text": [
      "[500, 400, 300, 200, 100]\n"
     ]
    }
   ],
   "source": [
    "#Reverse a given list in Python\n",
    "list1=[100, 200, 300, 400, 500]\n",
    "list2=[]\n",
    "z=len(list1)\n",
    "for x in range(len(list1)):\n",
    "    list2.append(list1[z-1])\n",
    "    z=z-1\n",
    "print(list2)"
   ]
  },
  {
   "cell_type": "code",
   "execution_count": 26,
   "id": "e65378b9",
   "metadata": {},
   "outputs": [],
   "source": [
    "#Concatenate two lists index-wise\n",
    "list1 = [\"M\", \"na\", \"i\", \"Ke\"]\n",
    "list2 = [\"y\", \"me\", \"s\", \"lly\"]\n",
    "list3=[]\n",
    "for x in range(len(list1)):\n",
    "    list3.append(list1[x]+list2[x])"
   ]
  },
  {
   "cell_type": "code",
   "execution_count": 43,
   "id": "2362aef0",
   "metadata": {},
   "outputs": [
    {
     "name": "stdout",
     "output_type": "stream",
     "text": [
      "[1, 4, 9, 16, 25, 36, 49]\n"
     ]
    }
   ],
   "source": [
    "#Given a Python list of numbers. Turn every item of a list into its square Given\n",
    "list=[1,2,3,4,5,6,7]\n",
    "list1=[]\n",
    "for x in list:\n",
    "    list1.append(x*x)\n",
    "print(list1)"
   ]
  },
  {
   "cell_type": "code",
   "execution_count": 48,
   "id": "6af1f6f2",
   "metadata": {},
   "outputs": [
    {
     "name": "stdout",
     "output_type": "stream",
     "text": [
      "['Hello Dear', 'Hello Sir', 'Take Dear', 'Take Sir']\n"
     ]
    }
   ],
   "source": [
    "#Concatenate two lists in the following order\n",
    "list1=[\"Hello \",\"Take \"]\n",
    "list2=[\"Dear\",\"Sir\"]\n",
    "list3=[]\n",
    "for x in list1:\n",
    "    for y in list2:\n",
    "        list3.append(x+y)\n",
    "print(list3)"
   ]
  },
  {
   "cell_type": "code",
   "execution_count": 60,
   "id": "ca3a81c6",
   "metadata": {},
   "outputs": [
    {
     "name": "stdout",
     "output_type": "stream",
     "text": [
      "['Mike', 'Emma', 'Kelly', 'Brad']\n"
     ]
    }
   ],
   "source": [
    "#Remove empty strings from the list of strings\n",
    "list1=[\"Mike\", \"\", \"Emma\", \"Kelly\", \"\", \"Brad\"]\n",
    "for x in list1:\n",
    "    if x==\"\":\n",
    "        list1.remove(x)\n",
    "print(list1)"
   ]
  },
  {
   "cell_type": "code",
   "execution_count": 66,
   "id": "6c2486c5",
   "metadata": {},
   "outputs": [
    {
     "name": "stdout",
     "output_type": "stream",
     "text": [
      "[5, 10, 15, 200, 25, 50, 20]\n"
     ]
    }
   ],
   "source": [
    "#Given a Python list, find value 20 in the list, and if it is present, replace it with 200.Only update the first occurrence of \n",
    "#a value\n",
    "list1 = [5,10,15,20,25,50,20]\n",
    "z=list1.index(20)\n",
    "list1.remove(20)\n",
    "list1.insert(z,200)\n",
    "print(list1)"
   ]
  },
  {
   "cell_type": "code",
   "execution_count": null,
   "id": "c4647940",
   "metadata": {},
   "outputs": [],
   "source": []
  }
 ],
 "metadata": {
  "kernelspec": {
   "display_name": "Python 3",
   "language": "python",
   "name": "python3"
  },
  "language_info": {
   "codemirror_mode": {
    "name": "ipython",
    "version": 3
   },
   "file_extension": ".py",
   "mimetype": "text/x-python",
   "name": "python",
   "nbconvert_exporter": "python",
   "pygments_lexer": "ipython3",
   "version": "3.8.8"
  }
 },
 "nbformat": 4,
 "nbformat_minor": 5
}
